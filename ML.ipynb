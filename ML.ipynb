{
 "cells": [
  {
   "cell_type": "code",
   "execution_count": 139,
   "id": "01b28512-27bb-4f9a-8b9f-3b59fed2f179",
   "metadata": {
    "scrolled": true
   },
   "outputs": [],
   "source": [
    "import pandas as pd\n",
    "alunos = {\n",
    "    'nome': ['Pedro', 'Joana', 'Rafael', 'João'],\n",
    "    'Nota': [0, 2, 3, 6],\n",
    "    'Aprovado': ['Não', 'Não', 'Não', 'Sim']\n",
    "}"
   ]
  },
  {
   "cell_type": "code",
   "execution_count": 141,
   "id": "626bfda7-cd47-4d97-a7fa-65a89f17c02e",
   "metadata": {},
   "outputs": [
    {
     "name": "stdout",
     "output_type": "stream",
     "text": [
      "     nome  Nota Aprovado\n",
      "0   Pedro     0      Não\n",
      "1   Joana     2      Não\n",
      "2  Rafael     3      Não\n",
      "3    João     6      Sim\n"
     ]
    }
   ],
   "source": [
    "dataframe = pd.DataFrame(alunos)\n",
    "print(df)"
   ]
  },
  {
   "cell_type": "code",
   "execution_count": 145,
   "id": "bce076c5-9f23-4d11-b1ed-8c78316435fd",
   "metadata": {},
   "outputs": [
    {
     "data": {
      "text/plain": [
       "0     Pedro\n",
       "1     Joana\n",
       "2    Rafael\n",
       "3      João\n",
       "Name: nome, dtype: object"
      ]
     },
     "execution_count": 145,
     "metadata": {},
     "output_type": "execute_result"
    }
   ],
   "source": [
    "df['nome']"
   ]
  },
  {
   "cell_type": "code",
   "execution_count": 147,
   "id": "e572188e-6189-48db-8c2d-1cf4a26bb635",
   "metadata": {},
   "outputs": [
    {
     "data": {
      "text/html": [
       "<div>\n",
       "<style scoped>\n",
       "    .dataframe tbody tr th:only-of-type {\n",
       "        vertical-align: middle;\n",
       "    }\n",
       "\n",
       "    .dataframe tbody tr th {\n",
       "        vertical-align: top;\n",
       "    }\n",
       "\n",
       "    .dataframe thead th {\n",
       "        text-align: right;\n",
       "    }\n",
       "</style>\n",
       "<table border=\"1\" class=\"dataframe\">\n",
       "  <thead>\n",
       "    <tr style=\"text-align: right;\">\n",
       "      <th></th>\n",
       "      <th>nome</th>\n",
       "      <th>Nota</th>\n",
       "      <th>Aprovado</th>\n",
       "    </tr>\n",
       "  </thead>\n",
       "  <tbody>\n",
       "    <tr>\n",
       "      <th>1</th>\n",
       "      <td>Joana</td>\n",
       "      <td>2</td>\n",
       "      <td>Não</td>\n",
       "    </tr>\n",
       "  </tbody>\n",
       "</table>\n",
       "</div>"
      ],
      "text/plain": [
       "    nome  Nota Aprovado\n",
       "1  Joana     2      Não"
      ]
     },
     "execution_count": 147,
     "metadata": {},
     "output_type": "execute_result"
    }
   ],
   "source": [
    "df.loc[df['Nota']==2]"
   ]
  },
  {
   "cell_type": "code",
   "execution_count": null,
   "id": "df4b07bc-c5fe-465a-8578-354d6d1efa4c",
   "metadata": {},
   "outputs": [],
   "source": []
  }
 ],
 "metadata": {
  "kernelspec": {
   "display_name": "Python [conda env:base] *",
   "language": "python",
   "name": "conda-base-py"
  },
  "language_info": {
   "codemirror_mode": {
    "name": "ipython",
    "version": 3
   },
   "file_extension": ".py",
   "mimetype": "text/x-python",
   "name": "python",
   "nbconvert_exporter": "python",
   "pygments_lexer": "ipython3",
   "version": "3.12.7"
  }
 },
 "nbformat": 4,
 "nbformat_minor": 5
}

//Futuramente esse repositorio armazenará mais códigos de livrarias python em jupyter notebook, pois boa parte desse conhecimento adquirido nesse curso tem pilar na machine learning.
