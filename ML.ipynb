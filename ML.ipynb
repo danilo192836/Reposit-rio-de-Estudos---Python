{
 "cells": [
  {
   "cell_type": "code",
   "execution_count": 47,
   "id": "01b28512-27bb-4f9a-8b9f-3b59fed2f179",
   "metadata": {},
   "outputs": [],
   "source": [
    "import pandas as pd\n",
    " alunos = {'nome':['Gay', 'jumento', 'bosta', 'cavalo'],\n",
    "        'Nota':[0, 2, 3, 6,],\n",
    "        'Aprovado':['Não', 'Não','Não', 'Sim']}"
   ]
  },
  {
   "cell_type": "code",
   "execution_count": 51,
   "id": "672b5222-9d27-45d3-8dfe-a258f78f71a6",
   "metadata": {},
   "outputs": [],
   "source": [
    "dataframe = pd.DataFrame(alunos)"
   ]
  },
  {
   "cell_type": "code",
   "execution_count": 53,
   "id": "a054d912-d296-4ad6-b969-867d9339f4e4",
   "metadata": {},
   "outputs": [
    {
     "name": "stdout",
     "output_type": "stream",
     "text": [
      "      nome  Nota Aprovado\n",
      "0      Gay     0      Não\n",
      "1  jumento     2      Não\n",
      "2    bosta     3      Não\n",
      "3   cavalo     6      Sim\n"
     ]
    }
   ],
   "source": [
    "print(dataframe)"
   ]
  },
  {
   "cell_type": "code",
   "execution_count": 91,
   "id": "63da6567-2607-408e-8fdd-f9878a0b6dab",
   "metadata": {},
   "outputs": [
    {
     "data": {
      "text/plain": [
       "0        Gay\n",
       "1    jumento\n",
       "2      bosta\n",
       "3     cavalo\n",
       "Name: nome, dtype: object"
      ]
     },
     "execution_count": 91,
     "metadata": {},
     "output_type": "execute_result"
    }
   ],
   "source": [
    "dataframe['nome']"
   ]
  },
  {
   "cell_type": "code",
   "execution_count": 113,
   "id": "62b94de1-9e3e-4f6b-8b95-da51419792e1",
   "metadata": {},
   "outputs": [
    {
     "data": {
      "text/html": [
       "<div>\n",
       "<style scoped>\n",
       "    .dataframe tbody tr th:only-of-type {\n",
       "        vertical-align: middle;\n",
       "    }\n",
       "\n",
       "    .dataframe tbody tr th {\n",
       "        vertical-align: top;\n",
       "    }\n",
       "\n",
       "    .dataframe thead th {\n",
       "        text-align: right;\n",
       "    }\n",
       "</style>\n",
       "<table border=\"1\" class=\"dataframe\">\n",
       "  <thead>\n",
       "    <tr style=\"text-align: right;\">\n",
       "      <th></th>\n",
       "      <th>nome</th>\n",
       "      <th>Nota</th>\n",
       "      <th>Aprovado</th>\n",
       "    </tr>\n",
       "  </thead>\n",
       "  <tbody>\n",
       "    <tr>\n",
       "      <th>1</th>\n",
       "      <td>jumento</td>\n",
       "      <td>2</td>\n",
       "      <td>Não</td>\n",
       "    </tr>\n",
       "  </tbody>\n",
       "</table>\n",
       "</div>"
      ],
      "text/plain": [
       "      nome  Nota Aprovado\n",
       "1  jumento     2      Não"
      ]
     },
     "execution_count": 113,
     "metadata": {},
     "output_type": "execute_result"
    }
   ],
   "source": [
    "dataframe.loc[dataframe['Nota']==2]"
   ]
  },
  {
   "cell_type": "code",
   "execution_count": null,
   "id": "6be1a7a5-a4e6-4718-b3a9-f747ecf8c8b4",
   "metadata": {},
   "outputs": [],
   "source": []
  }
 ],
 "metadata": {
  "kernelspec": {
   "display_name": "Python [conda env:base] *",
   "language": "python",
   "name": "conda-base-py"
  },
  "language_info": {
   "codemirror_mode": {
    "name": "ipython",
    "version": 3
   },
   "file_extension": ".py",
   "mimetype": "text/x-python",
   "name": "python",
   "nbconvert_exporter": "python",
   "pygments_lexer": "ipython3",
   "version": "3.12.7"
  }
 },
 "nbformat": 4,
 "nbformat_minor": 5
}
